{
 "cells": [
  {
   "cell_type": "markdown",
   "metadata": {},
   "source": [
    "# Nipple Finder - Human Observers\n",
    "\n",
    "Thank you for participating in this project. Please read the instructions below to learn how to execute the scripts in the cells below."
   ]
  },
  {
   "cell_type": "code",
   "execution_count": 1,
   "metadata": {},
   "outputs": [],
   "source": [
    "import numpy as np\n",
    "import matplotlib.pyplot as plt\n",
    "from matplotlib.widgets import Button\n",
    "import pandas as pd\n",
    "from IPython.display import display, Markdown, clear_output\n",
    "import ipywidgets as widgets\n",
    "import glob\n",
    "from PIL import Image\n",
    "%matplotlib widget\n"
   ]
  },
  {
   "cell_type": "code",
   "execution_count": 8,
   "metadata": {},
   "outputs": [
    {
     "name": "stdout",
     "output_type": "stream",
     "text": [
      "Python implementation: CPython\n",
      "Python version       : 3.7.6\n",
      "IPython version      : 7.19.0\n",
      "\n",
      "pandas    : 1.0.5\n",
      "numpy     : 1.18.5\n",
      "matplotlib: 3.2.2\n",
      "wget      : 3.2\n",
      "ipympl    : 0.5.7\n",
      "PIL       : 7.2.0\n",
      "ipywidgets: 7.5.1\n",
      "glob      : unknown\n",
      "\n",
      "Compiler    : Clang 9.0.1 \n",
      "OS          : Darwin\n",
      "Release     : 19.6.0\n",
      "Machine     : x86_64\n",
      "Processor   : i386\n",
      "CPU cores   : 8\n",
      "Architecture: 64bit\n",
      "\n"
     ]
    }
   ],
   "source": [
    "%load_ext watermark\n",
    "%watermark -v -m -p pandas,numpy,matplotlib,wget,ipympl,PIL,ipywidgets,glob"
   ]
  },
  {
   "cell_type": "code",
   "execution_count": 7,
   "metadata": {},
   "outputs": [],
   "source": [
    "# PLEASE DO NOT CHANGE THE CONTENT OF THIS CELL\n",
    "text = widgets.Text(\n",
    "       value='My Name',\n",
    "       description='Name', )\n",
    "calendar = widgets.DatePicker(\n",
    "           description='Select Date')\n",
    "box = widgets.VBox([text, calendar ])\n",
    "\n",
    "\n",
    "\n",
    "\n",
    "\n",
    "\n",
    "    \n",
    "# def next_callback(event=None,im=None,cIndx=0,fList=None):\n",
    "#     cIndx += 1\n",
    "#     path = fList[cIndx]\n",
    "#     data = np.asarray(Image.open(path))\n",
    "#     im.set_data(data)\n",
    "#     im.autoscale()\n",
    "#     plt.draw()\n",
    " \n",
    "\n",
    "\n",
    "\n",
    "class Index(object):\n",
    "    ind = 0\n",
    "    # -- Grab name of all available images -- #\n",
    "    fList = glob.glob(\"Data/*.png\")\n",
    "\n",
    "    def next(self, event):\n",
    "        self.ind += 1\n",
    "#         i = self.ind % len(freqs)\n",
    "#         ydata = np.sin(2*np.pi*freqs[i]*t)\n",
    "        path = self.fList[self.ind]\n",
    "        data = np.asarray(Image.open(path))\n",
    "        im.set_data(data)\n",
    "        im.autoscale()\n",
    "        plt.draw()\n",
    "\n",
    "    def prev(self, event):\n",
    "        self.ind -= 1\n",
    "        i = self.ind % len(freqs)\n",
    "        ydata = np.sin(2*np.pi*freqs[i]*t)\n",
    "        l.set_ydata(ydata)\n",
    "        plt.draw()\n",
    "\n",
    "    \n",
    "# # -- function to read data -- #\n",
    "# def start_experiment():\n",
    "#     cIndx = 0\n",
    "    \n",
    "# #     ax = fig.add_subplot(111)\n",
    "# #     plt.subplots_adjust(bottom=0,top=1,wspace=0)\n",
    "\n",
    "# #     fList = glob.glob(\"Data/*.png\")\n",
    "    \n",
    "#     path = fList[cIndx]\n",
    "#     im = ax.imshow(np.asarray(Image.open(path)),cmap='gray')\n",
    "#     ax.axis('off')\n",
    "    \n",
    "\n",
    "     \n",
    "\n",
    "    \n",
    "    \n",
    "\n",
    "\n",
    "# def prev(event):\n",
    "#         self.ind -= 1\n",
    "#         i = self.ind % len(freqs)\n",
    "#         ydata = np.sin(2*np.pi*freqs[i]*t)\n",
    "#         l.set_ydata(ydata)\n",
    "#         plt.draw()"
   ]
  },
  {
   "cell_type": "markdown",
   "metadata": {},
   "source": [
    "## Information about workerbox"
   ]
  },
  {
   "cell_type": "code",
   "execution_count": 3,
   "metadata": {},
   "outputs": [
    {
     "data": {
      "application/vnd.jupyter.widget-view+json": {
       "model_id": "bf7ca2b2e42c4b08b6d0967870a29182",
       "version_major": 2,
       "version_minor": 0
      },
      "text/plain": [
       "VBox(children=(Text(value='My Name', description='Name'), DatePicker(value=None, description='Select Date')))"
      ]
     },
     "metadata": {},
     "output_type": "display_data"
    }
   ],
   "source": [
    "box"
   ]
  },
  {
   "cell_type": "code",
   "execution_count": 5,
   "metadata": {},
   "outputs": [
    {
     "data": {
      "application/vnd.jupyter.widget-view+json": {
       "model_id": "75933667ad6c4cad96c1bd4b2a795558",
       "version_major": 2,
       "version_minor": 0
      },
      "text/plain": [
       "Canvas(toolbar=Toolbar(toolitems=[('Home', 'Reset original view', 'home', 'home'), ('Back', 'Back to previous …"
      ]
     },
     "metadata": {},
     "output_type": "display_data"
    }
   ],
   "source": [
    "fig = plt.figure(figsize=[10,10])\n",
    "ax = fig.add_subplot(111)\n",
    "plt.subplots_adjust(bottom=0,top=1,wspace=0)\n",
    "ax.axis('off')\n",
    "callback = Index()\n",
    "path = callback.fList[callback.ind]\n",
    "im = plt.imshow(np.asarray(Image.open(path)),cmap='gray')\n",
    "\n",
    "\n",
    "axbnext = plt.axes([0.05, 0.5, 0.1, 0.075])\n",
    "bnext = Button(axbnext, 'Next')\n",
    "bnext.on_clicked(callback.next)\n",
    "def onclick(event):\n",
    "#     tx = 'button=%d, x=%d, y=%d, xdata=%f, ydata=%f' % (event.button, event.x, event.y, event.xdata, event.ydata)\n",
    "    ax.scatter(float(event.xdata),event.ydata)\n",
    "#     text.set_text(tx)    \n",
    "cid = fig.canvas.mpl_connect('button_press_event', onclick)    \n"
   ]
  },
  {
   "cell_type": "code",
   "execution_count": null,
   "metadata": {},
   "outputs": [],
   "source": [
    "def onclick(event):\n",
    "    if event.dblclick:\n",
    "        if event.button == 1:\n",
    "            # Draw line\n",
    "            ld = LineDrawer()\n",
    "            ld.draw_line(event.xdata,event.ydata) # here you click on the plot\n",
    "        elif event.button == 3:\n",
    "            # Write to figure\n",
    "            plt.figtext(3, 8, 'boxed italics text in data coords', style='italic', bbox={'facecolor':'red', 'alpha':0.5, 'pad':10})\n",
    "            circ = plt.Circle((event.xdata, event.ydata), radius=0.07, color='g')\n",
    "            ax.add_patch(circ)\n",
    "            ax.figure.canvas.draw()\n",
    "        else:\n",
    "            pass # Do nothing"
   ]
  },
  {
   "cell_type": "code",
   "execution_count": 8,
   "metadata": {},
   "outputs": [
    {
     "data": {
      "application/vnd.jupyter.widget-view+json": {
       "model_id": "00f2b4b9114841209141497bd697a7c5",
       "version_major": 2,
       "version_minor": 0
      },
      "text/plain": [
       "Canvas(toolbar=Toolbar(toolitems=[('Home', 'Reset original view', 'home', 'home'), ('Back', 'Back to previous …"
      ]
     },
     "metadata": {},
     "output_type": "display_data"
    }
   ],
   "source": [
    "\n",
    "freqs = np.arange(2, 20, 3)\n",
    "\n",
    "fig, ax = plt.subplots()\n",
    "plt.subplots_adjust(bottom=0.2)\n",
    "t = np.arange(0.0, 1.0, 0.001)\n",
    "s = np.sin(2*np.pi*freqs[0]*t)\n",
    "l, = plt.plot(t, s, lw=2)\n",
    "\n",
    "\n",
    "class Index(object):\n",
    "    ind = 0\n",
    "\n",
    "    def next(self, event):\n",
    "        self.ind += 1\n",
    "        i = self.ind % len(freqs)\n",
    "        ydata = np.sin(2*np.pi*freqs[i]*t)\n",
    "        l.set_ydata(ydata)\n",
    "        plt.draw()\n",
    "\n",
    "    def prev(self, event):\n",
    "        self.ind -= 1\n",
    "        i = self.ind % len(freqs)\n",
    "        ydata = np.sin(2*np.pi*freqs[i]*t)\n",
    "        l.set_ydata(ydata)\n",
    "        plt.draw()\n",
    "\n",
    "callback = Index()\n",
    "axprev = plt.axes([0.7, 0.05, 0.1, 0.075])\n",
    "axnext = plt.axes([0.81, 0.05, 0.1, 0.075])\n",
    "bnext = Button(axnext, 'Next')\n",
    "bnext.on_clicked(callback.next)\n",
    "bprev = Button(axprev, 'Previous')\n",
    "bprev.on_clicked(callback.prev)\n",
    "\n",
    "plt.show()"
   ]
  },
  {
   "cell_type": "code",
   "execution_count": null,
   "metadata": {},
   "outputs": [],
   "source": []
  }
 ],
 "metadata": {
  "kernelspec": {
   "display_name": "Python 3",
   "language": "python",
   "name": "python3"
  },
  "language_info": {
   "codemirror_mode": {
    "name": "ipython",
    "version": 3
   },
   "file_extension": ".py",
   "mimetype": "text/x-python",
   "name": "python",
   "nbconvert_exporter": "python",
   "pygments_lexer": "ipython3",
   "version": "3.7.6"
  }
 },
 "nbformat": 4,
 "nbformat_minor": 4
}
