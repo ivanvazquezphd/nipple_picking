{
 "cells": [
  {
   "cell_type": "markdown",
   "metadata": {},
   "source": [
    "# Nipple Finder - Human Observers\n",
    "\n",
    "Thank you for participating in this project. Please read the instructions below to learn how to execute the scripts in the cells below."
   ]
  },
  {
   "cell_type": "code",
   "execution_count": 1,
   "metadata": {},
   "outputs": [],
   "source": [
    "import numpy as np\n",
    "import matplotlib.pyplot as plt\n",
    "from matplotlib.widgets import Button\n",
    "import pandas as pd\n",
    "from IPython.display import display, Markdown, clear_output\n",
    "import ipywidgets as widgets\n",
    "from PIL import Image\n",
    "from pathlib import Path\n",
    "import h5py\n",
    "import os\n",
    "%matplotlib widget"
   ]
  },
  {
   "cell_type": "code",
   "execution_count": 2,
   "metadata": {},
   "outputs": [],
   "source": [
    "parentPath = Path(os.getcwd()).parent\n",
    "datDir = os.path.join(parentPath,'DATA','sample_data.hdf5')"
   ]
  },
  {
   "cell_type": "code",
   "execution_count": 3,
   "metadata": {},
   "outputs": [],
   "source": [
    "# PLEASE DO NOT CHANGE THE CONTENT OF THIS CELL\n",
    "text = widgets.Text(\n",
    "       value='My Name',\n",
    "       description='Name', )\n",
    "calendar = widgets.DatePicker(\n",
    "           description='Select Date')\n",
    "box = widgets.VBox([text, calendar ])"
   ]
  },
  {
   "cell_type": "code",
   "execution_count": 4,
   "metadata": {},
   "outputs": [],
   "source": [
    "class WidgetControls(object):\n",
    "    ind = 0\n",
    "    pKeys = []\n",
    "    clickLoc = {}\n",
    "    fID = None\n",
    "    sp = None\n",
    "    txt = None\n",
    "    \n",
    "    def __init__(self,datDir):\n",
    "        \n",
    "        self.fID = h5py.File(datDir,'r')\n",
    "        \n",
    "        # DDSM LEFT MLO Keys\n",
    "        ddsm_l_mlo_keys = ['ddsm/mlo/l/'+x for x in list(self.fID['ddsm/mlo/l'].keys())]\n",
    "        ddsm_r_mlo_keys = ['ddsm/mlo/r/'+x for x in list(self.fID['ddsm/mlo/r'].keys())]\n",
    "        ddsm_r_cc_keys = ['ddsm/cc/r/'+x for x in list(self.fID['ddsm/cc/r'].keys())]\n",
    "        ddsm_l_cc_keys = ['ddsm/cc/l/'+x for x in list(self.fID['ddsm/cc/l'].keys())]\n",
    "        self.pKeys = ddsm_l_mlo_keys + ddsm_r_mlo_keys + ddsm_r_cc_keys + ddsm_l_cc_keys\n",
    "        self.clickLoc = {pk:[-1,-1] for pk in  self.pKeys}\n",
    "        \n",
    "    def next(self, event):\n",
    "        self.ind += 1\n",
    "        data = np.array(self.fID.get(self.pKeys[self.ind]))\n",
    "        im.set_data(data)\n",
    "        im.autoscale()\n",
    "        self.txt.set_text('{}/{}'.format(self.ind+1,len(self.pKeys)))  \n",
    "        plt.draw()\n",
    "\n",
    "    def prev(self, event):\n",
    "        self.ind -= 1\n",
    "        data = np.array(self.fID.get(self.pKeys[self.ind]))\n",
    "        im.set_data(data)\n",
    "        im.autoscale()\n",
    "        plt.draw()\n",
    "        \n",
    "    def onclick(self, event):    \n",
    "        self.sp.set_ydata(event.ydata)\n",
    "        self.sp.set_xdata(event.xdata)\n",
    "        self.clickLoc[self.pKeys[self.ind]] = [event.xdata, event.ydata]\n",
    "        plt.draw()\n",
    "    "
   ]
  },
  {
   "cell_type": "markdown",
   "metadata": {},
   "source": [
    "## Information about worker"
   ]
  },
  {
   "cell_type": "code",
   "execution_count": 5,
   "metadata": {},
   "outputs": [
    {
     "data": {
      "application/vnd.jupyter.widget-view+json": {
       "model_id": "39983f19b7a141f5b4633fdc3d0e6f60",
       "version_major": 2,
       "version_minor": 0
      },
      "text/plain": [
       "VBox(children=(Text(value='My Name', description='Name'), DatePicker(value=None, description='Select Date')))"
      ]
     },
     "metadata": {},
     "output_type": "display_data"
    }
   ],
   "source": [
    "box"
   ]
  },
  {
   "cell_type": "code",
   "execution_count": 6,
   "metadata": {},
   "outputs": [
    {
     "data": {
      "application/vnd.jupyter.widget-view+json": {
       "model_id": "6d9dd006a1b5478cb3bedb042a30aa7b",
       "version_major": 2,
       "version_minor": 0
      },
      "text/plain": [
       "Canvas(toolbar=Toolbar(toolitems=[('Home', 'Reset original view', 'home', 'home'), ('Back', 'Back to previous …"
      ]
     },
     "metadata": {},
     "output_type": "display_data"
    }
   ],
   "source": [
    "cbck = WidgetControls(datDir)\n",
    "\n",
    "fig = plt.figure(figsize=[10,10])\n",
    "plt.subplots_adjust(bottom=0,top=1,wspace=0)\n",
    "im = plt.imshow(np.array(cbck.fID.get(cbck.pKeys[0])),cmap='gray')\n",
    "cbck.sp, = plt.plot(0,0, c='red', marker='+', markersize=25)\n",
    "plt.axis('off')\n",
    "ax = plt.gca()\n",
    "\n",
    "\n",
    "cbck.txt = plt.text(0, 0, '1/{}'.format(len(cbck.pKeys)),\n",
    "            horizontalalignment='right',\n",
    "            verticalalignment='top',\n",
    "            fontsize=20, color='red')\n",
    "\n",
    "axbnext = plt.axes([0.05, 0.5, 0.1, 0.075])\n",
    "bnext = Button(axbnext, 'Next')\n",
    "bnext.on_clicked(cbck.next)\n",
    "\n",
    "cid = fig.canvas.mpl_connect('button_press_event', cbck.onclick)   "
   ]
  },
  {
   "cell_type": "markdown",
   "metadata": {},
   "source": [
    "**TODO:**\n",
    "1. save location of click in the image as csv\n",
    "    1. Use worker name and date to format output file"
   ]
  },
  {
   "cell_type": "code",
   "execution_count": null,
   "metadata": {},
   "outputs": [],
   "source": [
    "cbck.clickLoc"
   ]
  },
  {
   "cell_type": "code",
   "execution_count": null,
   "metadata": {},
   "outputs": [],
   "source": [
    "# import glob\n",
    "# glob.glob(\"Data/*.png\")"
   ]
  }
 ],
 "metadata": {
  "kernelspec": {
   "display_name": "Python 3",
   "language": "python",
   "name": "python3"
  },
  "language_info": {
   "codemirror_mode": {
    "name": "ipython",
    "version": 3
   },
   "file_extension": ".py",
   "mimetype": "text/x-python",
   "name": "python",
   "nbconvert_exporter": "python",
   "pygments_lexer": "ipython3",
   "version": "3.7.6"
  }
 },
 "nbformat": 4,
 "nbformat_minor": 4
}
